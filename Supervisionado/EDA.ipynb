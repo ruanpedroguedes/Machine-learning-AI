{
 "cells": [
  {
   "cell_type": "code",
   "execution_count": 1,
   "id": "8666bf44",
   "metadata": {},
   "outputs": [],
   "source": [
    "# Importando bibliotecas usuais\n",
    "import pandas as pd\n",
    "import numpy as np\n",
    "import matplotlib.pyplot as plt\n",
    "import seaborn as sns\n",
    "# importando bibliotecas para treino do modelo\n",
    "from sklearn.model_selection import train_test_split\n",
    "from sklearn.ensemble import RandomForestRegressor\n",
    "from sklearn.linear_model import LinearRegression\n",
    "from sklearn.metrics import mean_absolute_error, mean_squared_error, r2_score\n",
    "from sklearn.preprocessing import StandardScaler, LabelEncoder, OneHotEncoder\n",
    "##from imblearn.pipeline import Pipeline as ImbPipeline"
   ]
  },
  {
   "cell_type": "code",
   "execution_count": 3,
   "id": "2c1bb60e",
   "metadata": {},
   "outputs": [
    {
     "name": "stdout",
     "output_type": "stream",
     "text": [
      "  id_ocorrencia             data_ocorrencia       bairro tipo_crime  \\\n",
      "0     OCR100000  2024-08-02 19:48:16.958668  Imbiribeira  Sequestro   \n",
      "1     OCR100001  2022-10-29 19:48:16.958694   Boa Viagem  Homicídio   \n",
      "2     OCR100002  2023-03-12 19:48:16.958698  Santo Amaro      Furto   \n",
      "3     OCR100003  2025-04-18 19:48:16.958700     Afogados      Roubo   \n",
      "4     OCR100004  2025-06-30 19:48:16.958702  Tamarineira      Roubo   \n",
      "\n",
      "  descricao_modus_operandi      arma_utilizada  quantidade_vitimas  \\\n",
      "0         Golpe Telefônico                Faca                   2   \n",
      "1            Fraude Online  Objeto Contundente                   4   \n",
      "2      Invasão Residencial              Nenhum                   1   \n",
      "3             Arrombamento              Nenhum                   1   \n",
      "4         Estupro Coletivo        Arma de Fogo                   3   \n",
      "\n",
      "   quantidade_suspeitos  sexo_suspeito  idade_suspeito     orgao_responsavel  \\\n",
      "0                     0  Não Informado              53  Delegacia Casa Forte   \n",
      "1                     1  Não Informado              29  Delegacia Casa Forte   \n",
      "2                     4       Feminino              65  Delegacia Casa Forte   \n",
      "3                     4  Não Informado              30       Delegacia Torre   \n",
      "4                     3      Masculino              20  Delegacia Casa Forte   \n",
      "\n",
      "  status_investigacao  latitude  longitude  \n",
      "0           Concluído -8.111355 -34.943524  \n",
      "1           Arquivado -8.082012 -34.861911  \n",
      "2           Arquivado -8.096916 -34.898378  \n",
      "3           Concluído -8.135066 -34.913460  \n",
      "4           Concluído -8.074124 -34.933504  \n"
     ]
    }
   ],
   "source": [
    "# lendo conjunto de dados da policia civil de Pernambuco\n",
    "df = pd.read_csv('C:/Users/Usuario/Downloads/projeto pi/Machine-learning-AI/dataset_ocorrencias_delegacia_5.csv')\n",
    "print(df.head())"
   ]
  },
  {
   "cell_type": "code",
   "execution_count": null,
   "id": "39877ad6",
   "metadata": {},
   "outputs": [
    {
     "data": {
      "text/plain": [
       "id_ocorrencia               0\n",
       "data_ocorrencia             0\n",
       "bairro                      0\n",
       "tipo_crime                  0\n",
       "descricao_modus_operandi    0\n",
       "arma_utilizada              0\n",
       "quantidade_vitimas          0\n",
       "quantidade_suspeitos        0\n",
       "sexo_suspeito               0\n",
       "idade_suspeito              0\n",
       "orgao_responsavel           0\n",
       "status_investigacao         0\n",
       "latitude                    0\n",
       "longitude                   0\n",
       "dtype: int64"
      ]
     },
     "execution_count": 4,
     "metadata": {},
     "output_type": "execute_result"
    }
   ],
   "source": [
    "#Verificando dados nulos\n",
    "df.isnull().sum()"
   ]
  },
  {
   "cell_type": "code",
   "execution_count": null,
   "id": "b2d3501c",
   "metadata": {},
   "outputs": [],
   "source": []
  },
  {
   "cell_type": "code",
   "execution_count": null,
   "id": "a0662abe",
   "metadata": {},
   "outputs": [],
   "source": [
    "#Verificando \n",
    "pt."
   ]
  }
 ],
 "metadata": {
  "kernelspec": {
   "display_name": "Python 3",
   "language": "python",
   "name": "python3"
  },
  "language_info": {
   "codemirror_mode": {
    "name": "ipython",
    "version": 3
   },
   "file_extension": ".py",
   "mimetype": "text/x-python",
   "name": "python",
   "nbconvert_exporter": "python",
   "pygments_lexer": "ipython3",
   "version": "3.13.7"
  }
 },
 "nbformat": 4,
 "nbformat_minor": 5
}
