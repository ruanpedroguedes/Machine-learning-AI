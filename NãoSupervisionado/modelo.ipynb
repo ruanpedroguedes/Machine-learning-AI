{
 "cells": [
  {
   "cell_type": "code",
   "execution_count": 5,
   "id": "9440fd36",
   "metadata": {},
   "outputs": [],
   "source": [
    "# Importando bibliotecas\n",
    "from sklearn.model_selection import train_test_split\n",
    "from sklearn.cluster import KMeans\n",
    "from sklearn.preprocessing import LabelEncoder, OneHotEncoder \n",
    "import matplotlib.pyplot as plt  \n",
    "import pandas as pd"
   ]
  },
  {
   "cell_type": "code",
   "execution_count": 8,
   "id": "ee2173d4",
   "metadata": {},
   "outputs": [
    {
     "name": "stdout",
     "output_type": "stream",
     "text": [
      "<class 'pandas.core.frame.DataFrame'>\n",
      "RangeIndex: 5000 entries, 0 to 4999\n",
      "Data columns (total 8 columns):\n",
      " #   Column                 Non-Null Count  Dtype \n",
      "---  ------                 --------------  ----- \n",
      " 0   orgao_responsavel      5000 non-null   object\n",
      " 1   ano                    5000 non-null   int64 \n",
      " 2   mes                    5000 non-null   int64 \n",
      " 3   dia_semana_name        5000 non-null   object\n",
      " 4   tipo_crime             5000 non-null   object\n",
      " 5   quantidade_ocorrencia  5000 non-null   int64 \n",
      " 6   idade_suspeito         5000 non-null   int64 \n",
      " 7   arma_utilizada         5000 non-null   object\n",
      "dtypes: int64(4), object(4)\n",
      "memory usage: 312.6+ KB\n"
     ]
    }
   ],
   "source": [
    "df = pd.read_csv(\"../Supervisionado/dataset_delegacias\")\n",
    "old_df = pd.read_csv(\"../dataset_ocorrencias_delegacia_5.csv\")\n",
    "\n",
    "# print(old_df.info())\n",
    "\n",
    "df[\"idade_suspeito\"] = old_df[\"idade_suspeito\"]\n",
    "df[\"arma_utilizada\"] = old_df[\"arma_utilizada\"]\n",
    "\n",
    "df.info()"
   ]
  },
  {
   "cell_type": "code",
   "execution_count": 9,
   "id": "fedb2076",
   "metadata": {},
   "outputs": [],
   "source": [
    "colunas_categoricas = [\"tipo_crime\", \"idade_suspeito\", \"arma_utilizada\"]\n",
    "\n",
    "df[\"arma_utilizada\"] = old_df[\"arma_utilizada\"]\n",
    "df_encoded = pd.get_dummies(df, columns=[\"tipo_crime\", \"idade_suspeito\", \"arma_utilizada\"])\n",
    "\n",
    "encoder = OneHotEncoder(sparse_output=False, drop='first')\n",
    "encoded_array = encoder.fit_transform(df[colunas_categoricas])\n",
    "\n",
    "df_encoded = pd.DataFrame(encoded_array, columns=encoder.get_feature_names_out(colunas_categoricas))"
   ]
  },
  {
   "cell_type": "code",
   "execution_count": null,
   "id": "4603c6b5",
   "metadata": {},
   "outputs": [],
   "source": [
    "k_range = range(1, 10)\n",
    "k_scores = []\n",
    "\n",
    "X = df[[\"\"]]\n",
    "\n",
    "for k in k_range:\n",
    "    kmeans = KMeans(n_clusters=k)\n",
    "    kmeans.fit(df)\n",
    "    k_scores.append(kmeans.inertia_)\n",
    "    \n",
    "plt.plot(k_range, k_scores)\n",
    "plt.xlabel('Número de Clusters')\n",
    "plt.ylabel('Inércia')\n",
    "plt.show()"
   ]
  }
 ],
 "metadata": {
  "kernelspec": {
   "display_name": ".venv",
   "language": "python",
   "name": "python3"
  },
  "language_info": {
   "codemirror_mode": {
    "name": "ipython",
    "version": 3
   },
   "file_extension": ".py",
   "mimetype": "text/x-python",
   "name": "python",
   "nbconvert_exporter": "python",
   "pygments_lexer": "ipython3",
   "version": "3.10.12"
  }
 },
 "nbformat": 4,
 "nbformat_minor": 5
}
